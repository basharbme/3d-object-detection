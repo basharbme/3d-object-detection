{
 "cells": [
  {
   "cell_type": "code",
   "execution_count": 1,
   "metadata": {},
   "outputs": [],
   "source": [
    "#magic commands\n",
    "%reload_ext autoreload\n",
    "%autoreload 2\n",
    "%matplotlib inline"
   ]
  },
  {
   "cell_type": "code",
   "execution_count": 2,
   "metadata": {},
   "outputs": [],
   "source": [
    "#imports\n",
    "import os\n",
    "os.environ[\"OMP_NUM_THREADS\"] = \"1\"\n",
    "os.makedirs('./objects', exist_ok=True)\n",
    "import glob\n",
    "import datetime\n",
    "import functools\n",
    "from pathlib import Path\n",
    "\n",
    "import numpy as np\n",
    "import cv2 as cv\n",
    "import pandas as pd\n",
    "from PIL import Image\n",
    "import scipy\n",
    "import scipy.ndimage\n",
    "import scipy.special\n",
    "import matplotlib.pyplot as plt"
   ]
  },
  {
   "cell_type": "code",
   "execution_count": 3,
   "metadata": {},
   "outputs": [],
   "source": [
    "from lyft_dataset_sdk.lyftdataset import LyftDataset\n",
    "from lyft_dataset_sdk.utils.data_classes import *\n",
    "from lyft_dataset_sdk.utils.geometry_utils import *"
   ]
  },
  {
   "cell_type": "code",
   "execution_count": 4,
   "metadata": {},
   "outputs": [],
   "source": [
    "data_path = Path('data')\n",
    "train = data_path/'train_data'"
   ]
  },
  {
   "cell_type": "code",
   "execution_count": 5,
   "metadata": {},
   "outputs": [],
   "source": [
    "classes = [\"car\", \"motorcycle\", \"bus\", \"bicycle\", \"truck\",\\\n",
    "           \"pedestrian\",\"other_vehicle\", \"animal\", \"emergency_vehicle\"]"
   ]
  },
  {
   "cell_type": "code",
   "execution_count": 6,
   "metadata": {},
   "outputs": [
    {
     "name": "stdout",
     "output_type": "stream",
     "text": [
      "9 category,\n",
      "18 attribute,\n",
      "4 visibility,\n",
      "18421 instance,\n",
      "10 sensor,\n",
      "148 calibrated_sensor,\n",
      "177789 ego_pose,\n",
      "180 log,\n",
      "180 scene,\n",
      "22680 sample,\n",
      "189504 sample_data,\n",
      "638179 sample_annotation,\n",
      "1 map,\n",
      "Done loading in 15.1 seconds.\n",
      "======\n",
      "Reverse indexing ...\n",
      "Done reverse indexing in 3.2 seconds.\n",
      "======\n"
     ]
    }
   ],
   "source": [
    "#LyftDataset??\n",
    "data = LyftDataset(data_path = '.', json_path = str(train))"
   ]
  },
  {
   "cell_type": "code",
   "execution_count": 7,
   "metadata": {},
   "outputs": [],
   "source": [
    "records = [(data.get('sample', record['first_sample_token'])['timestamp'], record) for record in data.scene]"
   ]
  },
  {
   "cell_type": "code",
   "execution_count": 9,
   "metadata": {},
   "outputs": [],
   "source": [
    "entries = []\n",
    "for ts, record in sorted(records):\n",
    "    start = data.get('sample', record['first_sample_token'])['timestamp'] / 10000000\n",
    "    token = record['token']\n",
    "    name = record['name']\n",
    "    date = datetime.datetime.utcfromtimestamp(start)\n",
    "    first_sample_token = record['first_sample_token']\n",
    "    car = \"-\".join(name.split(\"-\")[:2])\n",
    "    entries.append((car, name, date, token, first_sample_token))"
   ]
  },
  {
   "cell_type": "code",
   "execution_count": 10,
   "metadata": {},
   "outputs": [],
   "source": [
    "cols = ['car', 'scene', 'date', 'scene_token', 'first_sample_token']\n",
    "d = pd.DataFrame(entries, columns = cols)"
   ]
  },
  {
   "cell_type": "code",
   "execution_count": 11,
   "metadata": {},
   "outputs": [
    {
     "data": {
      "text/plain": [
       "car\n",
       "host-a004    42\n",
       "host-a005     1\n",
       "host-a006     3\n",
       "host-a007    26\n",
       "host-a008     5\n",
       "host-a009     9\n",
       "host-a011    51\n",
       "host-a012     2\n",
       "host-a015     6\n",
       "host-a017     3\n",
       "host-a101    20\n",
       "host-a102    12\n",
       "Name: scene_token, dtype: int64"
      ]
     },
     "execution_count": 11,
     "metadata": {},
     "output_type": "execute_result"
    }
   ],
   "source": [
    "car_count = d.groupby(\"car\")['scene_token'].count()\n",
    "car_count"
   ]
  },
  {
   "cell_type": "code",
   "execution_count": null,
   "metadata": {},
   "outputs": [],
   "source": []
  }
 ],
 "metadata": {
  "kernelspec": {
   "display_name": "Python 3",
   "language": "python",
   "name": "python3"
  },
  "language_info": {
   "codemirror_mode": {
    "name": "ipython",
    "version": 3
   },
   "file_extension": ".py",
   "mimetype": "text/x-python",
   "name": "python",
   "nbconvert_exporter": "python",
   "pygments_lexer": "ipython3",
   "version": "3.7.4"
  }
 },
 "nbformat": 4,
 "nbformat_minor": 4
}
